{
  "nbformat": 4,
  "nbformat_minor": 0,
  "metadata": {
    "colab": {
      "name": "lab2_optimization_methods.ipynb",
      "provenance": [],
      "collapsed_sections": [],
      "authorship_tag": "ABX9TyMjTmxGh82aAktROENL/wA0",
      "include_colab_link": true
    },
    "kernelspec": {
      "name": "python3",
      "display_name": "Python 3"
    },
    "language_info": {
      "name": "python"
    }
  },
  "cells": [
    {
      "cell_type": "markdown",
      "metadata": {
        "id": "view-in-github",
        "colab_type": "text"
      },
      "source": [
        "<a href=\"https://colab.research.google.com/github/sarychief/BMSTU/blob/main/lab2-optimization/lab2_optimization_methods.ipynb\" target=\"_parent\"><img src=\"https://colab.research.google.com/assets/colab-badge.svg\" alt=\"Open In Colab\"/></a>"
      ]
    },
    {
      "cell_type": "code",
      "execution_count": 346,
      "metadata": {
        "id": "VDpn6NVEEWb9"
      },
      "outputs": [],
      "source": [
        "import random\n",
        "import numpy as np\n",
        "import pandas as pd\n",
        "import matplotlib.pyplot as plt\n",
        "import seaborn as sns\n",
        "import torch\n",
        "from sklearn.metrics import mean_squared_error\n",
        "%matplotlib inline\n",
        "\n",
        "\n",
        "random.seed(0)\n",
        "np.random.seed(0)"
      ]
    },
    {
      "cell_type": "markdown",
      "source": [
        "Считываем данные не сразу pd.read_csv, потому что таким образом проще сплитить данные, ибо исходный df имеет склеенные фичи и предикторы."
      ],
      "metadata": {
        "id": "tDcIevsI-p8z"
      }
    },
    {
      "cell_type": "code",
      "source": [
        "data = []\n",
        "with open(\"/content/lab1.csv\", \"r\") as f:\n",
        "  for i in f:\n",
        "    row = i.split()\n",
        "    data.append([float(row[0]), float(row[1])])\n",
        "\n",
        "data = pd.DataFrame(data)"
      ],
      "metadata": {
        "id": "N-DbmZTSErpf"
      },
      "execution_count": 347,
      "outputs": []
    },
    {
      "cell_type": "code",
      "source": [
        "data.shape"
      ],
      "metadata": {
        "colab": {
          "base_uri": "https://localhost:8080/"
        },
        "id": "9vR_7SqdKVyl",
        "outputId": "7c747c5b-5645-48e9-c088-6bc450b72c95"
      },
      "execution_count": 348,
      "outputs": [
        {
          "output_type": "execute_result",
          "data": {
            "text/plain": [
              "(40, 2)"
            ]
          },
          "metadata": {},
          "execution_count": 348
        }
      ]
    },
    {
      "cell_type": "code",
      "source": [
        "data.head()"
      ],
      "metadata": {
        "colab": {
          "base_uri": "https://localhost:8080/",
          "height": 206
        },
        "id": "BMAsOUL4Mg9O",
        "outputId": "795759a2-a4ae-4986-9ba2-34acdfdd9078"
      },
      "execution_count": 349,
      "outputs": [
        {
          "output_type": "execute_result",
          "data": {
            "text/plain": [
              "          0          1\n",
              "0  1.762616  -0.255949\n",
              "1  7.954275 -59.537454\n",
              "2  7.830615 -58.237982\n",
              "3  6.316750 -14.521705\n",
              "4 -9.282208 -32.656908"
            ],
            "text/html": [
              "\n",
              "  <div id=\"df-21ed190c-f5ce-48c4-a9ab-ac0a8de00e64\">\n",
              "    <div class=\"colab-df-container\">\n",
              "      <div>\n",
              "<style scoped>\n",
              "    .dataframe tbody tr th:only-of-type {\n",
              "        vertical-align: middle;\n",
              "    }\n",
              "\n",
              "    .dataframe tbody tr th {\n",
              "        vertical-align: top;\n",
              "    }\n",
              "\n",
              "    .dataframe thead th {\n",
              "        text-align: right;\n",
              "    }\n",
              "</style>\n",
              "<table border=\"1\" class=\"dataframe\">\n",
              "  <thead>\n",
              "    <tr style=\"text-align: right;\">\n",
              "      <th></th>\n",
              "      <th>0</th>\n",
              "      <th>1</th>\n",
              "    </tr>\n",
              "  </thead>\n",
              "  <tbody>\n",
              "    <tr>\n",
              "      <th>0</th>\n",
              "      <td>1.762616</td>\n",
              "      <td>-0.255949</td>\n",
              "    </tr>\n",
              "    <tr>\n",
              "      <th>1</th>\n",
              "      <td>7.954275</td>\n",
              "      <td>-59.537454</td>\n",
              "    </tr>\n",
              "    <tr>\n",
              "      <th>2</th>\n",
              "      <td>7.830615</td>\n",
              "      <td>-58.237982</td>\n",
              "    </tr>\n",
              "    <tr>\n",
              "      <th>3</th>\n",
              "      <td>6.316750</td>\n",
              "      <td>-14.521705</td>\n",
              "    </tr>\n",
              "    <tr>\n",
              "      <th>4</th>\n",
              "      <td>-9.282208</td>\n",
              "      <td>-32.656908</td>\n",
              "    </tr>\n",
              "  </tbody>\n",
              "</table>\n",
              "</div>\n",
              "      <button class=\"colab-df-convert\" onclick=\"convertToInteractive('df-21ed190c-f5ce-48c4-a9ab-ac0a8de00e64')\"\n",
              "              title=\"Convert this dataframe to an interactive table.\"\n",
              "              style=\"display:none;\">\n",
              "        \n",
              "  <svg xmlns=\"http://www.w3.org/2000/svg\" height=\"24px\"viewBox=\"0 0 24 24\"\n",
              "       width=\"24px\">\n",
              "    <path d=\"M0 0h24v24H0V0z\" fill=\"none\"/>\n",
              "    <path d=\"M18.56 5.44l.94 2.06.94-2.06 2.06-.94-2.06-.94-.94-2.06-.94 2.06-2.06.94zm-11 1L8.5 8.5l.94-2.06 2.06-.94-2.06-.94L8.5 2.5l-.94 2.06-2.06.94zm10 10l.94 2.06.94-2.06 2.06-.94-2.06-.94-.94-2.06-.94 2.06-2.06.94z\"/><path d=\"M17.41 7.96l-1.37-1.37c-.4-.4-.92-.59-1.43-.59-.52 0-1.04.2-1.43.59L10.3 9.45l-7.72 7.72c-.78.78-.78 2.05 0 2.83L4 21.41c.39.39.9.59 1.41.59.51 0 1.02-.2 1.41-.59l7.78-7.78 2.81-2.81c.8-.78.8-2.07 0-2.86zM5.41 20L4 18.59l7.72-7.72 1.47 1.35L5.41 20z\"/>\n",
              "  </svg>\n",
              "      </button>\n",
              "      \n",
              "  <style>\n",
              "    .colab-df-container {\n",
              "      display:flex;\n",
              "      flex-wrap:wrap;\n",
              "      gap: 12px;\n",
              "    }\n",
              "\n",
              "    .colab-df-convert {\n",
              "      background-color: #E8F0FE;\n",
              "      border: none;\n",
              "      border-radius: 50%;\n",
              "      cursor: pointer;\n",
              "      display: none;\n",
              "      fill: #1967D2;\n",
              "      height: 32px;\n",
              "      padding: 0 0 0 0;\n",
              "      width: 32px;\n",
              "    }\n",
              "\n",
              "    .colab-df-convert:hover {\n",
              "      background-color: #E2EBFA;\n",
              "      box-shadow: 0px 1px 2px rgba(60, 64, 67, 0.3), 0px 1px 3px 1px rgba(60, 64, 67, 0.15);\n",
              "      fill: #174EA6;\n",
              "    }\n",
              "\n",
              "    [theme=dark] .colab-df-convert {\n",
              "      background-color: #3B4455;\n",
              "      fill: #D2E3FC;\n",
              "    }\n",
              "\n",
              "    [theme=dark] .colab-df-convert:hover {\n",
              "      background-color: #434B5C;\n",
              "      box-shadow: 0px 1px 3px 1px rgba(0, 0, 0, 0.15);\n",
              "      filter: drop-shadow(0px 1px 2px rgba(0, 0, 0, 0.3));\n",
              "      fill: #FFFFFF;\n",
              "    }\n",
              "  </style>\n",
              "\n",
              "      <script>\n",
              "        const buttonEl =\n",
              "          document.querySelector('#df-21ed190c-f5ce-48c4-a9ab-ac0a8de00e64 button.colab-df-convert');\n",
              "        buttonEl.style.display =\n",
              "          google.colab.kernel.accessAllowed ? 'block' : 'none';\n",
              "\n",
              "        async function convertToInteractive(key) {\n",
              "          const element = document.querySelector('#df-21ed190c-f5ce-48c4-a9ab-ac0a8de00e64');\n",
              "          const dataTable =\n",
              "            await google.colab.kernel.invokeFunction('convertToInteractive',\n",
              "                                                     [key], {});\n",
              "          if (!dataTable) return;\n",
              "\n",
              "          const docLinkHtml = 'Like what you see? Visit the ' +\n",
              "            '<a target=\"_blank\" href=https://colab.research.google.com/notebooks/data_table.ipynb>data table notebook</a>'\n",
              "            + ' to learn more about interactive tables.';\n",
              "          element.innerHTML = '';\n",
              "          dataTable['output_type'] = 'display_data';\n",
              "          await google.colab.output.renderOutput(dataTable, element);\n",
              "          const docLink = document.createElement('div');\n",
              "          docLink.innerHTML = docLinkHtml;\n",
              "          element.appendChild(docLink);\n",
              "        }\n",
              "      </script>\n",
              "    </div>\n",
              "  </div>\n",
              "  "
            ]
          },
          "metadata": {},
          "execution_count": 349
        }
      ]
    },
    {
      "cell_type": "code",
      "source": [
        "X = data[0]\n",
        "y = data[1]"
      ],
      "metadata": {
        "id": "_-FuOjl2KaMm"
      },
      "execution_count": 350,
      "outputs": []
    },
    {
      "cell_type": "code",
      "source": [
        "plt.figure(figsize=(12, 8))\n",
        "sns.scatterplot(x=X, y=y)\n",
        "plt.title(\"Интеполяционные узлы исходной функции\")\n",
        "plt.show()"
      ],
      "metadata": {
        "colab": {
          "base_uri": "https://localhost:8080/",
          "height": 513
        },
        "id": "DqP8kNtk6h-d",
        "outputId": "5b13931c-4e6c-487f-863a-84da0b8eed20"
      },
      "execution_count": 351,
      "outputs": [
        {
          "output_type": "display_data",
          "data": {
            "text/plain": [
              "<Figure size 864x576 with 1 Axes>"
            ],
            "image/png": "[encoded data removed]"
          },
          "metadata": {
            "needs_background": "light"
          }
        }
      ]
    },
    {
      "cell_type": "markdown",
      "source": [
        "## В качестве аппросимирующей функции выбираем полиномиальную регрессию"
      ],
      "metadata": {
        "id": "Mww9LLM4Fvjb"
      }
    },
    {
      "cell_type": "code",
      "source": [
        "# Найдем наилучшую степень полинома по результатам лосса\n",
        "def find_best_loss_value(X, y, max_degree=30):\n",
        "  v_mse = {}\n",
        "  for n in range(1, max_degree+1):\n",
        "    y_pred = pd.Series(dtype=pd.StringDtype()) \n",
        "    model = np.polyfit(X, y, n)\n",
        "    predict = np.poly1d(model)\n",
        "    for i in X:\n",
        "      y_pred = y_pred.append(pd.Series([predict(i)]), ignore_index=True)\n",
        "    print(\"Полином\", n, \"степени имеет MSE =\", mean_squared_error(y, y_pred))\n",
        "    v_mse[n] = mean_squared_error(y, y_pred)\n",
        "  return v_mse"
      ],
      "metadata": {
        "id": "moSNJ969FeTg"
      },
      "execution_count": 352,
      "outputs": []
    },
    {
      "cell_type": "code",
      "source": [
        "v = find_best_loss_value(X, y)"
      ],
      "metadata": {
        "colab": {
          "base_uri": "https://localhost:8080/"
        },
        "id": "VE2TAz5gT0T1",
        "outputId": "b0d025ce-21cd-44fe-b325-507bbb778810"
      },
      "execution_count": 353,
      "outputs": [
        {
          "output_type": "stream",
          "name": "stdout",
          "text": [
            "Полином 1 степени имеет MSE = 656.0270117946209\n",
            "Полином 2 степени имеет MSE = 267.63180504988276\n",
            "Полином 3 степени имеет MSE = 267.5830380428292\n",
            "Полином 4 степени имеет MSE = 239.01738810203514\n",
            "Полином 5 степени имеет MSE = 232.03269777190798\n",
            "Полином 6 степени имеет MSE = 18.6425031442373\n",
            "Полином 7 степени имеет MSE = 18.61618425466508\n",
            "Полином 8 степени имеет MSE = 10.708805004282851\n",
            "Полином 9 степени имеет MSE = 9.359497388890455\n",
            "Полином 10 степени имеет MSE = 0.5908704423756331\n",
            "Полином 11 степени имеет MSE = 0.40736718983263565\n",
            "Полином 12 степени имеет MSE = 0.005774754590376104\n",
            "Полином 13 степени имеет MSE = 0.0032447298036645394\n",
            "Полином 14 степени имеет MSE = 2.1667179928215693e-05\n",
            "Полином 15 степени имеет MSE = 1.635643042441097e-05\n",
            "Полином 16 степени имеет MSE = 1.9909811570222684e-07\n",
            "Полином 17 степени имеет MSE = 7.924782435076047e-08\n",
            "Полином 18 степени имеет MSE = 3.472059533086646e-10\n",
            "Полином 19 степени имеет MSE = 8.206248938783235e-11\n",
            "Полином 20 степени имеет MSE = 1.7496421241229245e-13\n",
            "Полином 21 степени имеет MSE = 5.135685020284843e-14\n",
            "Полином 22 степени имеет MSE = 1.438376170485883e-17\n",
            "Полином 23 степени имеет MSE = 1.0287895698273175e-17\n",
            "Полином 24 степени имеет MSE = 9.519411300883832e-22\n",
            "Полином 25 степени имеет MSE = 9.001938316384505e-22\n",
            "Полином 26 степени имеет MSE = 2.119995841956956e-24\n",
            "Полином 27 степени имеет MSE = 6.454292772573995e-24\n",
            "Полином 28 степени имеет MSE = 5.478904936481962e-24\n",
            "Полином 29 степени имеет MSE = 9.151211822770155e-24\n",
            "Полином 30 степени имеет MSE = 5.558454325499427e-24\n"
          ]
        }
      ]
    },
    {
      "cell_type": "code",
      "source": [
        "# еще думаю\n",
        "print(list(v.keys())[list(v.values()).index(0.005774754590376104)])"
      ],
      "metadata": {
        "colab": {
          "base_uri": "https://localhost:8080/"
        },
        "id": "N7GblSIySCXb",
        "outputId": "43c3621b-e5f0-4d30-bcfc-6a2af465c94b"
      },
      "execution_count": 354,
      "outputs": [
        {
          "output_type": "stream",
          "name": "stdout",
          "text": [
            "12\n"
          ]
        }
      ]
    },
    {
      "cell_type": "markdown",
      "source": [
        "### Вывод полинома, имея оптимальную степень\n"
      ],
      "metadata": {
        "id": "kTZxIm1MgZBs"
      }
    },
    {
      "cell_type": "code",
      "source": [
        "best_model = np.polyfit(X, y, 13)\n",
        "predict = np.poly1d(best_model)\n",
        "print(predict)"
      ],
      "metadata": {
        "id": "bOVwNCAtYjCX",
        "colab": {
          "base_uri": "https://localhost:8080/"
        },
        "outputId": "036c48b4-13b0-4cdb-c0a8-140a4486ae00"
      },
      "execution_count": 355,
      "outputs": [
        {
          "output_type": "stream",
          "name": "stdout",
          "text": [
            "           13             12             11             10\n",
            "1.806e-10 x  + 8.444e-09 x  - 4.817e-08 x  - 2.633e-06 x \n",
            "              9             8             7           6           5\n",
            " + 5.688e-06 x + 0.0003142 x - 0.0003977 x - 0.01654 x + 0.01613 x\n",
            "           4          3         2\n",
            " + 0.3186 x - 0.2804 x - 0.932 x + 0.8228 x - 0.04395\n"
          ]
        }
      ]
    },
    {
      "cell_type": "markdown",
      "source": [
        "### Так же можно посмотреть какой была бы аппроксимация полиномиальной регрессией n-го порядка"
      ],
      "metadata": {
        "id": "wW3UO9w-iDLn"
      }
    },
    {
      "cell_type": "code",
      "source": [
        "def polynomregression(n):\n",
        "  y_pred = pd.Series(dtype=pd.StringDtype()) \n",
        "  model = np.polyfit(X, y, n)\n",
        "  predict = np.poly1d(model)\n",
        "  for i in X:\n",
        "    y_pred = y_pred.append(pd.Series([predict(i)]), ignore_index=True)\n",
        "  plt.figure(figsize=(12, 8))\n",
        "  sns.scatterplot(x=X, y=y, label='Интерполяционные узлы')\n",
        "  sns.scatterplot(x=X, y=y_pred, label='Построение полинома')\n",
        "  plt.title(\"Интеполяционные узлы исходной функции\")\n",
        "  plt.show()"
      ],
      "metadata": {
        "id": "IDHHNMdDhUrt"
      },
      "execution_count": 356,
      "outputs": []
    },
    {
      "cell_type": "code",
      "source": [
        "polynomregression(7) "
      ],
      "metadata": {
        "colab": {
          "base_uri": "https://localhost:8080/",
          "height": 513
        },
        "id": "4L-MWQsEd2tg",
        "outputId": "38ccf66b-7a01-4da1-f66f-ba433d865c79"
      },
      "execution_count": 357,
      "outputs": [
        {
          "output_type": "display_data",
          "data": {
            "text/plain": [
              "<Figure size 864x576 with 1 Axes>"
            ],
            "image/png": "[encoded data removed]"
          },
          "metadata": {
            "needs_background": "light"
          }
        }
      ]
    },
    {
      "cell_type": "code",
      "source": [
        ""
      ],
      "metadata": {
        "id": "5VdZCMCHfg56"
      },
      "execution_count": 357,
      "outputs": []
    }
  ]
}